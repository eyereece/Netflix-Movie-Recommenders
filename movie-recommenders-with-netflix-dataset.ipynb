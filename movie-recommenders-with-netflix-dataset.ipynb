{
 "cells": [
  {
   "cell_type": "markdown",
   "metadata": {},
   "source": [
    "### Movie recommender system with TensorFlow Recommenders\n",
    "\n",
    "##### Abstract:\n",
    "In the era of digital entertainment, personalized movie recommendation systems have emerged as a pivotal tool to enhance user engagement and satisfaction. This project delves into the realm of movie recommendation using machine learning techniques, aiming to create a sophisticated recommender system that guides users towards their ideal movie choices. The project showcases the implementation of a collaborative filtering model utilizing TensorFlow Recommenders (TFRS), capitalizing on both user and movie embeddings to predict movie ratings and furnish top-k recommendations.\n",
    "\n",
    "##### Problem Statement:\n",
    "The proliferation of digital content platforms has led to an overwhelming variety of movie options, often leaving users inundated and unsure of what to watch next. The challenge lies in deciphering user preferences and habits from past interactions, and delivering tailored movie suggestions that resonate with their tastes. Addressing this challenge, the project seeks to leverage the power of machine learning to build an effective movie recommender system. By using user-movie interaction data, the system is designed to predict movie preferences and cater to the diverse entertainment preferences of users.\n",
    "\n",
    "##### Solution Approach:\n",
    "To overcome the intricacies of movie recommendation, the project turns to TensorFlow Recommenders (TFRS), a versatile framework that amalgamates collaborative filtering with deep learning methodologies. The hybrid model is engineered to seamlessly combine user and movie embeddings, allowing it to unravel the latent patterns within the data. This integration empowers the system to generate personalized movie recommendations by estimating user preferences and suggesting movies that align with their viewing history. The project navigates through the intricacies of data preprocessing, feature engineering, and hyperparameter tuning, resulting in a refined model capable of accurately predicting movie ratings and offering a curated list of movie suggestions. Through a holistic exploration of machine learning techniques, this project demonstrates how an innovative movie recommendation system can greatly enhance the user experience, effectively catering to the diverse cinematic preferences of users."
   ]
  },
  {
   "cell_type": "markdown",
   "metadata": {},
   "source": [
    "#### Imports\n",
    "\n",
    "import required libraries"
   ]
  },
  {
   "cell_type": "code",
   "execution_count": 1,
   "metadata": {},
   "outputs": [],
   "source": [
    "from typing import Dict, Text\n",
    "\n",
    "import random\n",
    "import pandas as pd\n",
    "import numpy as np\n",
    "import seaborn as sns\n",
    "import matplotlib.pyplot as plt\n",
    "import tensorflow as tf\n",
    "import tensorflow_recommenders as tfrs"
   ]
  },
  {
   "cell_type": "markdown",
   "metadata": {},
   "source": [
    "#### Data pre-processing"
   ]
  },
  {
   "cell_type": "code",
   "execution_count": 2,
   "metadata": {},
   "outputs": [
    {
     "data": {
      "text/html": [
       "<div>\n",
       "<style scoped>\n",
       "    .dataframe tbody tr th:only-of-type {\n",
       "        vertical-align: middle;\n",
       "    }\n",
       "\n",
       "    .dataframe tbody tr th {\n",
       "        vertical-align: top;\n",
       "    }\n",
       "\n",
       "    .dataframe thead th {\n",
       "        text-align: right;\n",
       "    }\n",
       "</style>\n",
       "<table border=\"1\" class=\"dataframe\">\n",
       "  <thead>\n",
       "    <tr style=\"text-align: right;\">\n",
       "      <th></th>\n",
       "      <th>User_ID</th>\n",
       "      <th>Rating</th>\n",
       "      <th>Movie_ID</th>\n",
       "    </tr>\n",
       "  </thead>\n",
       "  <tbody>\n",
       "    <tr>\n",
       "      <th>0</th>\n",
       "      <td>712664</td>\n",
       "      <td>5</td>\n",
       "      <td>3</td>\n",
       "    </tr>\n",
       "    <tr>\n",
       "      <th>1</th>\n",
       "      <td>1331154</td>\n",
       "      <td>4</td>\n",
       "      <td>3</td>\n",
       "    </tr>\n",
       "    <tr>\n",
       "      <th>2</th>\n",
       "      <td>2632461</td>\n",
       "      <td>3</td>\n",
       "      <td>3</td>\n",
       "    </tr>\n",
       "    <tr>\n",
       "      <th>3</th>\n",
       "      <td>44937</td>\n",
       "      <td>5</td>\n",
       "      <td>3</td>\n",
       "    </tr>\n",
       "    <tr>\n",
       "      <th>4</th>\n",
       "      <td>656399</td>\n",
       "      <td>4</td>\n",
       "      <td>3</td>\n",
       "    </tr>\n",
       "  </tbody>\n",
       "</table>\n",
       "</div>"
      ],
      "text/plain": [
       "   User_ID  Rating  Movie_ID\n",
       "0   712664       5         3\n",
       "1  1331154       4         3\n",
       "2  2632461       3         3\n",
       "3    44937       5         3\n",
       "4   656399       4         3"
      ]
     },
     "execution_count": 2,
     "metadata": {},
     "output_type": "execute_result"
    }
   ],
   "source": [
    "# read and merge our data\n",
    "\n",
    "ratings_df = pd.read_csv('../netflix-project/data/Netflix_Dataset_Rating.csv')\n",
    "ratings_df.head()"
   ]
  },
  {
   "cell_type": "code",
   "execution_count": 3,
   "metadata": {},
   "outputs": [
    {
     "data": {
      "text/html": [
       "<div>\n",
       "<style scoped>\n",
       "    .dataframe tbody tr th:only-of-type {\n",
       "        vertical-align: middle;\n",
       "    }\n",
       "\n",
       "    .dataframe tbody tr th {\n",
       "        vertical-align: top;\n",
       "    }\n",
       "\n",
       "    .dataframe thead th {\n",
       "        text-align: right;\n",
       "    }\n",
       "</style>\n",
       "<table border=\"1\" class=\"dataframe\">\n",
       "  <thead>\n",
       "    <tr style=\"text-align: right;\">\n",
       "      <th></th>\n",
       "      <th>Movie_ID</th>\n",
       "      <th>Year</th>\n",
       "      <th>Name</th>\n",
       "    </tr>\n",
       "  </thead>\n",
       "  <tbody>\n",
       "    <tr>\n",
       "      <th>0</th>\n",
       "      <td>1</td>\n",
       "      <td>2003</td>\n",
       "      <td>Dinosaur Planet</td>\n",
       "    </tr>\n",
       "    <tr>\n",
       "      <th>1</th>\n",
       "      <td>2</td>\n",
       "      <td>2004</td>\n",
       "      <td>Isle of Man TT 2004 Review</td>\n",
       "    </tr>\n",
       "    <tr>\n",
       "      <th>2</th>\n",
       "      <td>3</td>\n",
       "      <td>1997</td>\n",
       "      <td>Character</td>\n",
       "    </tr>\n",
       "    <tr>\n",
       "      <th>3</th>\n",
       "      <td>4</td>\n",
       "      <td>1994</td>\n",
       "      <td>Paula Abdul's Get Up &amp; Dance</td>\n",
       "    </tr>\n",
       "    <tr>\n",
       "      <th>4</th>\n",
       "      <td>5</td>\n",
       "      <td>2004</td>\n",
       "      <td>The Rise and Fall of ECW</td>\n",
       "    </tr>\n",
       "  </tbody>\n",
       "</table>\n",
       "</div>"
      ],
      "text/plain": [
       "   Movie_ID  Year                          Name\n",
       "0         1  2003               Dinosaur Planet\n",
       "1         2  2004    Isle of Man TT 2004 Review\n",
       "2         3  1997                     Character\n",
       "3         4  1994  Paula Abdul's Get Up & Dance\n",
       "4         5  2004      The Rise and Fall of ECW"
      ]
     },
     "execution_count": 3,
     "metadata": {},
     "output_type": "execute_result"
    }
   ],
   "source": [
    "movies_df = pd.read_csv('../netflix-project/data/Netflix_Dataset_Movie.csv')\n",
    "movies_df.head()"
   ]
  },
  {
   "cell_type": "code",
   "execution_count": 4,
   "metadata": {},
   "outputs": [],
   "source": [
    "temp_movies_df = pd.read_csv('../netflix-project/data/Netflix_Dataset_Movie.csv')\n",
    "ratings_df = ratings_df.merge(temp_movies_df, on='Movie_ID')"
   ]
  },
  {
   "cell_type": "code",
   "execution_count": 5,
   "metadata": {},
   "outputs": [
    {
     "data": {
      "text/html": [
       "<div>\n",
       "<style scoped>\n",
       "    .dataframe tbody tr th:only-of-type {\n",
       "        vertical-align: middle;\n",
       "    }\n",
       "\n",
       "    .dataframe tbody tr th {\n",
       "        vertical-align: top;\n",
       "    }\n",
       "\n",
       "    .dataframe thead th {\n",
       "        text-align: right;\n",
       "    }\n",
       "</style>\n",
       "<table border=\"1\" class=\"dataframe\">\n",
       "  <thead>\n",
       "    <tr style=\"text-align: right;\">\n",
       "      <th></th>\n",
       "      <th>User_ID</th>\n",
       "      <th>Rating</th>\n",
       "      <th>Movie_ID</th>\n",
       "      <th>Year</th>\n",
       "      <th>Name</th>\n",
       "    </tr>\n",
       "  </thead>\n",
       "  <tbody>\n",
       "    <tr>\n",
       "      <th>0</th>\n",
       "      <td>712664</td>\n",
       "      <td>5</td>\n",
       "      <td>3</td>\n",
       "      <td>1997</td>\n",
       "      <td>Character</td>\n",
       "    </tr>\n",
       "    <tr>\n",
       "      <th>1</th>\n",
       "      <td>1331154</td>\n",
       "      <td>4</td>\n",
       "      <td>3</td>\n",
       "      <td>1997</td>\n",
       "      <td>Character</td>\n",
       "    </tr>\n",
       "    <tr>\n",
       "      <th>2</th>\n",
       "      <td>2632461</td>\n",
       "      <td>3</td>\n",
       "      <td>3</td>\n",
       "      <td>1997</td>\n",
       "      <td>Character</td>\n",
       "    </tr>\n",
       "    <tr>\n",
       "      <th>3</th>\n",
       "      <td>44937</td>\n",
       "      <td>5</td>\n",
       "      <td>3</td>\n",
       "      <td>1997</td>\n",
       "      <td>Character</td>\n",
       "    </tr>\n",
       "    <tr>\n",
       "      <th>4</th>\n",
       "      <td>656399</td>\n",
       "      <td>4</td>\n",
       "      <td>3</td>\n",
       "      <td>1997</td>\n",
       "      <td>Character</td>\n",
       "    </tr>\n",
       "  </tbody>\n",
       "</table>\n",
       "</div>"
      ],
      "text/plain": [
       "   User_ID  Rating  Movie_ID  Year       Name\n",
       "0   712664       5         3  1997  Character\n",
       "1  1331154       4         3  1997  Character\n",
       "2  2632461       3         3  1997  Character\n",
       "3    44937       5         3  1997  Character\n",
       "4   656399       4         3  1997  Character"
      ]
     },
     "execution_count": 5,
     "metadata": {},
     "output_type": "execute_result"
    }
   ],
   "source": [
    "ratings_df.head()"
   ]
  },
  {
   "cell_type": "code",
   "execution_count": 6,
   "metadata": {},
   "outputs": [
    {
     "name": "stdout",
     "output_type": "stream",
     "text": [
      "<class 'pandas.core.frame.DataFrame'>\n",
      "RangeIndex: 17337458 entries, 0 to 17337457\n",
      "Data columns (total 5 columns):\n",
      " #   Column    Dtype \n",
      "---  ------    ----- \n",
      " 0   User_ID   int64 \n",
      " 1   Rating    int64 \n",
      " 2   Movie_ID  int64 \n",
      " 3   Year      int64 \n",
      " 4   Name      object\n",
      "dtypes: int64(4), object(1)\n",
      "memory usage: 661.4+ MB\n"
     ]
    }
   ],
   "source": [
    "ratings_df.info()"
   ]
  },
  {
   "cell_type": "markdown",
   "metadata": {},
   "source": [
    "#### Exploratory Data Analysis\n",
    "\n",
    "In this section, we'll take a closer look at our data to gain intuition about our data. Let's first take a look at the average number of ratings given by each user"
   ]
  },
  {
   "cell_type": "code",
   "execution_count": 7,
   "metadata": {},
   "outputs": [
    {
     "name": "stdout",
     "output_type": "stream",
     "text": [
      "On average, each user has rated 120 movies in the dataset\n"
     ]
    }
   ],
   "source": [
    "# Group data by User_ID and calculate average number of ratings\n",
    "average_ratings_count_by_user = ratings_df.groupby(\"User_ID\")[\"Rating\"].count().mean()\n",
    "\n",
    "# Display the result\n",
    "print(f\"On average, each user has rated {int(average_ratings_count_by_user)} movies in the dataset\")"
   ]
  },
  {
   "cell_type": "code",
   "execution_count": 8,
   "metadata": {},
   "outputs": [
    {
     "data": {
      "text/plain": [
       "User_ID\n",
       "305344     1344\n",
       "387418     1339\n",
       "2439493    1324\n",
       "2118461    1305\n",
       "1664010    1257\n",
       "Name: Rating, dtype: int64"
      ]
     },
     "execution_count": 8,
     "metadata": {},
     "output_type": "execute_result"
    }
   ],
   "source": [
    "no_of_rated_products_per_users = ratings_df.groupby(by='User_ID')['Rating'].count().sort_values(ascending=False)\n",
    "no_of_rated_products_per_users.head()"
   ]
  },
  {
   "cell_type": "markdown",
   "metadata": {},
   "source": [
    "Let's look at some visualizations, based on what we see from our first plot, it seems like there are more recent movies in the dataset compared to older movies"
   ]
  },
  {
   "cell_type": "code",
   "execution_count": 9,
   "metadata": {},
   "outputs": [
    {
     "data": {
      "image/png": "[encoded data removed]",
      "text/plain": [
       "<Figure size 1000x600 with 1 Axes>"
      ]
     },
     "metadata": {},
     "output_type": "display_data"
    }
   ],
   "source": [
    "# Group the DataFrame by 'Year' and count the number of unique 'Name' values\n",
    "yearly_movie_counts = ratings_df.groupby('Year')['Name'].nunique()\n",
    "\n",
    "# Plotting\n",
    "plt.figure(figsize=(10, 6))\n",
    "plt.bar(yearly_movie_counts.index, yearly_movie_counts.values, color='skyblue')\n",
    "plt.xlabel('Year')\n",
    "plt.ylabel('Total Number of Movies Released')\n",
    "plt.title('Total Number of Movies Released Each Year')\n",
    "\n",
    "# rotate the x-axis labels for better visibility if the year labels are long.\n",
    "plt.xticks(rotation=45)\n",
    "plt.tight_layout()\n",
    "\n",
    "plt.show()"
   ]
  },
  {
   "cell_type": "markdown",
   "metadata": {},
   "source": [
    "We can also see that more favorable ratings are given, with 34.0% of users giving a 4 star rating, compared to 10.1% for a 2 star rating"
   ]
  },
  {
   "cell_type": "code",
   "execution_count": 10,
   "metadata": {},
   "outputs": [
    {
     "data": {
      "image/png": "[encoded data removed]",
      "text/plain": [
       "<Figure size 800x800 with 1 Axes>"
      ]
     },
     "metadata": {},
     "output_type": "display_data"
    }
   ],
   "source": [
    "# Group the DataFrame by 'Rating' and count the number of occurrences\n",
    "rating_counts = ratings_df['Rating'].value_counts()\n",
    "\n",
    "# Plotting\n",
    "plt.figure(figsize=(8, 8))\n",
    "plt.pie(rating_counts, labels=rating_counts.index, autopct='%1.1f%%', startangle=140, colors=['skyblue', 'lightgreen', 'gold', 'lightcoral', 'lightsalmon'])\n",
    "plt.title('Percentage of Each Rating Value Given by Users')\n",
    "plt.axis('equal')  # Equal aspect ratio ensures the pie chart is circular.\n",
    "\n",
    "plt.show()"
   ]
  },
  {
   "cell_type": "markdown",
   "metadata": {},
   "source": [
    "Visualizing our dataset on ratings of movie by release year, it seems like there's no correlation between Movies released on a certain year and favorable rating given."
   ]
  },
  {
   "cell_type": "code",
   "execution_count": 11,
   "metadata": {},
   "outputs": [
    {
     "data": {
      "image/png": "[encoded data removed]",
      "text/plain": [
       "<Figure size 1000x600 with 1 Axes>"
      ]
     },
     "metadata": {},
     "output_type": "display_data"
    }
   ],
   "source": [
    "# Scatter Plot: Influence of Year Released on Rating\n",
    "plt.figure(figsize=(10, 6))\n",
    "plt.scatter(ratings_df[\"Year\"], ratings_df[\"Rating\"], color='blue', alpha=0.5)\n",
    "plt.xlabel(\"Year Released\")\n",
    "plt.ylabel(\"Rating\")\n",
    "plt.title(\"Influence of Year Released on Rating\")\n",
    "plt.grid(True)\n",
    "plt.show()\n",
    "\n",
    "# No correlation between year released and rating given"
   ]
  },
  {
   "cell_type": "markdown",
   "metadata": {},
   "source": [
    "#### Data Processing"
   ]
  },
  {
   "cell_type": "code",
   "execution_count": 12,
   "metadata": {},
   "outputs": [],
   "source": [
    "# convert 'User ID' to prepare for user embedding layer in the model\n",
    "\n",
    "ratings_df['User_ID'] = ratings_df['User_ID'].astype('str')\n",
    "\n",
    "ratings = tf.data.Dataset.from_tensor_slices(dict(ratings_df[['User_ID', 'Rating', 'Name']]))\n",
    "movies = tf.data.Dataset.from_tensor_slices(dict(movies_df[['Name']]))"
   ]
  },
  {
   "cell_type": "code",
   "execution_count": 13,
   "metadata": {},
   "outputs": [],
   "source": [
    "ratings = ratings.map(lambda x: {\n",
    "    \"Name\": x[\"Name\"],\n",
    "    \"User_ID\": x[\"User_ID\"],\n",
    "    \"Rating\": x[\"Rating\"]\n",
    "})\n",
    "\n",
    "movies = movies.map(lambda x: x[\"Name\"])"
   ]
  },
  {
   "cell_type": "code",
   "execution_count": 14,
   "metadata": {},
   "outputs": [
    {
     "name": "stdout",
     "output_type": "stream",
     "text": [
      "Total Data: 17337458\n"
     ]
    }
   ],
   "source": [
    "print(\"Total Data: {}\".format(len(ratings)))"
   ]
  },
  {
   "cell_type": "code",
   "execution_count": 15,
   "metadata": {},
   "outputs": [],
   "source": [
    "# prep for building vocabularies and splitting data into a train and test set\n",
    "\n",
    "tf.random.set_seed(42)\n",
    "shuffled = ratings.shuffle(100_000, seed=42, reshuffle_each_iteration=False)\n",
    "\n",
    "train = shuffled.take(80_000)\n",
    "test = shuffled.skip(80_000).take(20_000)\n",
    "\n",
    "movie_titles = movies.batch(1_000)\n",
    "user_ids = ratings.batch(1_000_000).map(lambda x: x[\"User_ID\"])\n",
    "\n",
    "unique_movie_titles = np.unique(np.concatenate(list(movie_titles)))\n",
    "unique_user_ids = np.unique(np.concatenate(list(user_ids)))"
   ]
  },
  {
   "cell_type": "code",
   "execution_count": 16,
   "metadata": {},
   "outputs": [
    {
     "name": "stdout",
     "output_type": "stream",
     "text": [
      "Unique movie titles: 17297\n",
      "Unique user ids: 143458\n"
     ]
    },
    {
     "data": {
      "text/plain": [
       "array([b\"'Allo 'Allo!: Series 1\", b\"'Allo 'Allo!: Series 2\",\n",
       "       b\"'Allo 'Allo!: Series 3\", b\"'N Sync: 'N the Mix\",\n",
       "       b\"'N Sync: Live at Madison Square Garden\",\n",
       "       b\"'N Sync: Making of the Tour\", b\"'N Sync: PopOdyssey Live\",\n",
       "       b\"'N Sync: Unauthorized Biography\", b\"'Round Midnight\",\n",
       "       b'... And God Spoke'], dtype=object)"
      ]
     },
     "execution_count": 16,
     "metadata": {},
     "output_type": "execute_result"
    }
   ],
   "source": [
    "print('Unique movie titles: {}'.format(len(unique_movie_titles)))\n",
    "print('Unique user ids: {}'.format(len(unique_user_ids)))\n",
    "\n",
    "unique_movie_titles[:10]"
   ]
  },
  {
   "cell_type": "markdown",
   "metadata": {},
   "source": [
    "#### Model Implementation\n",
    "\n",
    "<figure>\n",
    "    <center> <img src=\"./two-tower-model.png\"   style=\"width:500px;height:280px;\" ></center>\n",
    "</figure>\n",
    "\n",
    "The focus on this model would be on two critical-parts:\n",
    "* optimize for two objectives (retrieval and ranking), thus, having two losses\n",
    "* share variables between tasks, allowing for transfer learning\n",
    "\n",
    "The graph shows the architecture of the two-tower model that will be used for this project: retrieval and ranking using the dataset with ratings of movies given by the user. It is a neural network with 2 sub-models using representations for queries('User_ID') and candidates('Name') separately.\n",
    "\n",
    "With this model, it may use representations learned from abundant task to improve its predictions on the sparse task via transfer learning.\n",
    "\n",
    "The two-tower model will include the following:\n",
    "* <b>A user-tower:</b> turns 'User_ID's into user-embeddings (high-dimensional vector representations)\n",
    "* <b>A movie-tower:</b> turns movie tiles 'Name's into movie-embeddings\n",
    "* <b>Task (Rating/Ranking):</b> MSE (Loss to predict ratings), RMSE (metrics)\n",
    "* <b>Task (Retrieval):</b> the Retrieval task object is a wrapper that bundles together the loss function and metric computation. top-k metrics is used\n",
    "\n",
    "<b>Top-k metrics:</b> given a user and a known watched movie, how highly would the model rank the true movie out of all possible movies?\n",
    "\n",
    "The model architecture also shows the score of the given query-candidate pair, which is the dot product of the output of the two towers.\n",
    "\n",
    "<b>Embedding dimension:</b> we will use an embedding size of 32, larger dimensions for embedding layer may yield more accurate result but may be prone to overfitting\n",
    "\n",
    "<b>Call:</b> The call method define how our model computes its predictions, which uses user_embeddings, movie_embeddings as inputs and applying them to the rating model. (not to be called directly)\n",
    "\n",
    "The <b>compute_loss</b> method describe how the model should be trained, since this is a multi-task model, loss weights will be combined in both tasks, and can be adjusted depending on the weights assigned."
   ]
  },
  {
   "cell_type": "markdown",
   "metadata": {},
   "source": [
    "The model below combines both a collaborative and content-based filtering aspect:\n",
    "* <b>Collaborative Filtering:</b> By learning embeddings for both users and movies, we capture user-movie interactions. The retrieval task leverages the collaborative filtering aspect to recommend movies to users based on their embeddings.\n",
    "* <b>Content-Based Filtering:</b> The model also learn embeddings for movie names, which can be seen as capturing content-related features. We can improve this model by expanding the vocabulary of the movie embeddings with additional features such as movie descriptions, etc, if available."
   ]
  },
  {
   "cell_type": "code",
   "execution_count": 17,
   "metadata": {},
   "outputs": [],
   "source": [
    "class MovieModel(tfrs.models.Model):\n",
    "    def __init__(self, rating_weight: float, retrieval_weight: float) -> None:\n",
    "        # we take the loss weights in the constructor: this allows us to instantiate\n",
    "        # several model objects with different loss weights\n",
    "        super().__init__()\n",
    "\n",
    "        embedding_dimension = 32\n",
    "\n",
    "        # user and movie models\n",
    "        self.movie_model: tf.keras.layers.Layer = tf.keras.Sequential([\n",
    "            tf.keras.layers.StringLookup(\n",
    "            vocabulary=unique_movie_titles, mask_token=None\n",
    "            ),\n",
    "            # we add an additional embedding to account for unknown tokens\n",
    "            tf.keras.layers.Embedding(len(unique_movie_titles) + 1, embedding_dimension)\n",
    "        ])\n",
    "        self.user_model: tf.keras.layers.Layer = tf.keras.Sequential([\n",
    "            tf.keras.layers.StringLookup(\n",
    "            vocabulary=unique_user_ids, mask_token=None),\n",
    "            tf.keras.layers.Embedding(len(unique_user_ids) + 1, embedding_dimension)\n",
    "        ])\n",
    "\n",
    "        # A small model to take in user and movie embeddings and predict ratings\n",
    "        # we can make this as complicated as we want as long as we output a scalar\n",
    "        # as our prediction\n",
    "        self.rating_model = tf.keras.Sequential([\n",
    "            tf.keras.layers.Dense(256, activation=\"relu\"),\n",
    "            tf.keras.layers.Dense(128, activation=\"relu\"),\n",
    "            tf.keras.layers.Dense(1)\n",
    "        ])\n",
    "\n",
    "        # the tasks\n",
    "        self.rating_task: tf.keras.layer.Layer = tfrs.tasks.Ranking(\n",
    "            loss=tf.keras.losses.MeanSquaredError(),\n",
    "            metrics=[tf.keras.metrics.RootMeanSquaredError()]\n",
    "        )\n",
    "        self.retrieval_task: tf.keras.layers.Layer = tfrs.tasks.Retrieval(\n",
    "            metrics=tfrs.metrics.FactorizedTopK(\n",
    "            candidates=movies.batch(128).map(self.movie_model)\n",
    "            )\n",
    "        )\n",
    "\n",
    "        # The loss weights\n",
    "        self.rating_weight = rating_weight\n",
    "        self.retrieval_weight = retrieval_weight\n",
    "\n",
    "    def call(self, features: Dict[Text, tf.Tensor]) -> tf.Tensor:\n",
    "        # we pick out the user features and pass them into the user model\n",
    "        user_embeddings = self.user_model(features[\"User_ID\"])\n",
    "        # and pick out the movie features and pass them into the movie model\n",
    "        movie_embeddings = self.movie_model(features[\"Name\"])\n",
    "\n",
    "        return(\n",
    "            user_embeddings,\n",
    "            movie_embeddings,\n",
    "            # we apply the multi-layered rating model to a concatenation of \n",
    "            # user and movie embeddings\n",
    "            self.rating_model(\n",
    "            tf.concat([user_embeddings, movie_embeddings], axis=1)\n",
    "            )\n",
    "        )\n",
    "    \n",
    "    def compute_loss(self, features: Dict[Text, tf.Tensor], training=False) -> tf.Tensor:\n",
    "        ratings = features.pop(\"Rating\")\n",
    "        user_embeddings, movie_embeddings, rating_predictions = self(features)\n",
    "\n",
    "        # we compute the loss for each task\n",
    "        rating_loss = self.rating_task(\n",
    "            labels=ratings,\n",
    "            predictions=rating_predictions\n",
    "        )\n",
    "        retrieval_loss = self.retrieval_task(user_embeddings, movie_embeddings)\n",
    "\n",
    "        # and combine them using the loss weights\n",
    "        return (self.rating_weight * rating_loss\n",
    "                + self.retrieval_weight * retrieval_loss)"
   ]
  },
  {
   "cell_type": "markdown",
   "metadata": {},
   "source": [
    "#### Fitting and Evaluating"
   ]
  },
  {
   "cell_type": "code",
   "execution_count": 18,
   "metadata": {},
   "outputs": [],
   "source": [
    "# instantiate the model\n",
    "\n",
    "model = MovieModel(rating_weight=0.9, retrieval_weight=1.0)\n",
    "model.compile(optimizer=tf.keras.optimizers.legacy.Adagrad(0.1))"
   ]
  },
  {
   "cell_type": "code",
   "execution_count": 19,
   "metadata": {},
   "outputs": [],
   "source": [
    "# shuffle, batch, and cache the training and evaluation data\n",
    "\n",
    "cached_train = train.shuffle(100_000).batch(8_192).cache()\n",
    "cached_test = test.batch(4_096).cache()"
   ]
  },
  {
   "cell_type": "markdown",
   "metadata": {},
   "source": [
    "##### Model Metrics Interpretation\n",
    "In this model, we will receive two metrics to evaluate the performance of our model for both tasks:\n",
    "\n",
    "* Retrieval Top-100 categorical accuracy: the number of movies generated that the model has accurately predicted out of the top 100 movies generated. Higher number usually equates to better model performance.\n",
    "* Ranking RMSE: we want our error value to be as low as possible.\n",
    "\n",
    "The rating and retrieval weights of our model may be tweaked to compare which weight distribution yield better results."
   ]
  },
  {
   "cell_type": "code",
   "execution_count": 21,
   "metadata": {},
   "outputs": [
    {
     "name": "stdout",
     "output_type": "stream",
     "text": [
      "Epoch 1/3\n",
      "10/10 [==============================] - 17s 2s/step - root_mean_squared_error: 1.0572 - factorized_top_k/top_1_categorical_accuracy: 0.4922 - factorized_top_k/top_5_categorical_accuracy: 0.8820 - factorized_top_k/top_10_categorical_accuracy: 0.8995 - factorized_top_k/top_50_categorical_accuracy: 0.9116 - factorized_top_k/top_100_categorical_accuracy: 0.9124 - loss: 64311.4865 - regularization_loss: 0.0000e+00 - total_loss: 64311.4865\n",
      "Epoch 2/3\n",
      "10/10 [==============================] - 16s 2s/step - root_mean_squared_error: 1.1015 - factorized_top_k/top_1_categorical_accuracy: 0.5206 - factorized_top_k/top_5_categorical_accuracy: 0.8964 - factorized_top_k/top_10_categorical_accuracy: 0.9255 - factorized_top_k/top_50_categorical_accuracy: 0.9455 - factorized_top_k/top_100_categorical_accuracy: 0.9469 - loss: 62120.4581 - regularization_loss: 0.0000e+00 - total_loss: 62120.4581\n",
      "Epoch 3/3\n",
      "10/10 [==============================] - 16s 2s/step - root_mean_squared_error: 1.0088 - factorized_top_k/top_1_categorical_accuracy: 0.5437 - factorized_top_k/top_5_categorical_accuracy: 0.9194 - factorized_top_k/top_10_categorical_accuracy: 0.9641 - factorized_top_k/top_50_categorical_accuracy: 0.9766 - factorized_top_k/top_100_categorical_accuracy: 0.9770 - loss: 61079.9421 - regularization_loss: 0.0000e+00 - total_loss: 61079.9421\n",
      "5/5 [==============================] - 4s 815ms/step - root_mean_squared_error: 1.0529 - factorized_top_k/top_1_categorical_accuracy: 0.0127 - factorized_top_k/top_5_categorical_accuracy: 0.1371 - factorized_top_k/top_10_categorical_accuracy: 0.2747 - factorized_top_k/top_50_categorical_accuracy: 0.3521 - factorized_top_k/top_100_categorical_accuracy: 0.3561 - loss: 35540.2591 - regularization_loss: 0.0000e+00 - total_loss: 35540.2591\n",
      "Retrieval top-100 accuracy: 0.356\n",
      "Ranking RMSE: 1.053\n"
     ]
    }
   ],
   "source": [
    "# train the model\n",
    "\n",
    "model.fit(cached_train, epochs=3)\n",
    "metrics = model.evaluate(cached_test, return_dict=True)\n",
    "\n",
    "print(f\"Retrieval top-100 accuracy: {metrics['factorized_top_k/top_100_categorical_accuracy']:.3f}\")\n",
    "print(f\"Ranking RMSE: {metrics['root_mean_squared_error']:.3f}\")"
   ]
  },
  {
   "cell_type": "markdown",
   "metadata": {},
   "source": [
    "#### Making predictions\n",
    "\n",
    "'tfrs.layers.factorized_top_k.BruteForce' layer will be used to make predictions.\n",
    "The BruteForce layer may be slower when serving a model with many possible candidates, in which other layer may be used to speed this up, such as the 'TFRS ScaNN' layer"
   ]
  },
  {
   "cell_type": "code",
   "execution_count": 22,
   "metadata": {},
   "outputs": [],
   "source": [
    "def predict_movie(user, top_n=5):\n",
    "    # create a model that takes in raw query ft user\n",
    "    index = tfrs.layers.factorized_top_k.BruteForce(model.user_model)\n",
    "\n",
    "    # recommends movies out of the entire movies dataset\n",
    "    index.index_from_dataset(\n",
    "        tf.data.Dataset.zip((movies.batch(100), movies.batch(100).map(model.movie_model)))\n",
    "    )\n",
    "\n",
    "    # get recommendations\n",
    "    _, titles = index(tf.constant([str(user)]))\n",
    "\n",
    "    print('Top {} recommendations for user {}:\\n'.format(top_n, user))\n",
    "    \n",
    "    unique_titles = set()  # To store unique titles\n",
    "    \n",
    "    for i, title in enumerate(titles[0].numpy()):\n",
    "        title_str = title.decode(\"utf-8\")\n",
    "        if title_str not in unique_titles:\n",
    "            unique_titles.add(title_str)\n",
    "            print('{}. {}'.format(len(unique_titles), title_str))\n",
    "            \n",
    "            if len(unique_titles) == top_n:\n",
    "                break\n",
    "\n",
    "def predict_rating(user, movie):\n",
    "    trained_movie_embeddings, trained_user_embeddings, predicted_rating = model({\n",
    "        \"User_ID\": np.array([str(user)]),\n",
    "        \"Name\": np.array([movie])\n",
    "    })\n",
    "    print(\"Predicted rating for {}: {}\".format(movie, predicted_rating))"
   ]
  },
  {
   "cell_type": "markdown",
   "metadata": {},
   "source": [
    "#### Results\n",
    "\n",
    "let's try our model by making some predictions on a random user from our test dataset. Let's also make sure that our random user does not exist in our training dataset."
   ]
  },
  {
   "cell_type": "code",
   "execution_count": 23,
   "metadata": {},
   "outputs": [
    {
     "name": "stdout",
     "output_type": "stream",
     "text": [
      "Randomly selected 'User_ID': 1904227\n"
     ]
    }
   ],
   "source": [
    "# Convert the CacheDataset to an iterator\n",
    "cached_test_iter = iter(cached_test)\n",
    "\n",
    "# Get the number of batches in the dataset\n",
    "num_batches = len(cached_test)\n",
    "\n",
    "# Choose a random batch index\n",
    "random_batch_index = random.randint(0, num_batches - 1)\n",
    "\n",
    "# Create a separate random number generator for this code snippet\n",
    "user_id_random_generator = random.Random(1)\n",
    "\n",
    "# Iterate to the random batch\n",
    "for i in range(random_batch_index + 1):\n",
    "    element = next(cached_test_iter)\n",
    "\n",
    "# Choose a random index within the batch using the separate random generator\n",
    "random_index_in_batch = user_id_random_generator.randint(0, len(element['User_ID']) - 1)\n",
    "\n",
    "# Get the random 'User_ID'\n",
    "random_user_id = element['User_ID'][random_index_in_batch].numpy()\n",
    "\n",
    "print(\"Randomly selected 'User_ID':\", random_user_id.decode(\"utf-8\"))"
   ]
  },
  {
   "cell_type": "markdown",
   "metadata": {},
   "source": [
    "Running the code above will select a random user from our test dataset, and running it again may randomly select a different user. To ensure that our random user that was previously selected from the test set was not in the training set, we will run the following code\n",
    "\n",
    "Let's check to make sure 'User_ID': 169999 does not exist in the training dataset"
   ]
  },
  {
   "cell_type": "code",
   "execution_count": 24,
   "metadata": {},
   "outputs": [
    {
     "name": "stdout",
     "output_type": "stream",
     "text": [
      "User with 'User_ID' b'169999' does not exist in the cached_train dataset.\n"
     ]
    }
   ],
   "source": [
    "# Convert the CacheDataset to an iterator\n",
    "cached_train_iter = iter(cached_train)\n",
    "\n",
    "# Check if 'User_ID' '169999' exists in the dataset\n",
    "user_id_to_find = b'169999'\n",
    "user_id_found = False\n",
    "\n",
    "for _ in range(len(cached_train)):  # Loop through all batches in the cached_train\n",
    "    element = next(cached_train_iter)\n",
    "    user_ids = element['User_ID']\n",
    "    \n",
    "    if user_id_to_find in user_ids:\n",
    "        user_id_found = True\n",
    "        break\n",
    "\n",
    "if user_id_found:\n",
    "    print(f\"User with 'User_ID' {user_id_to_find} exists in the cached_train dataset.\")\n",
    "else:\n",
    "    print(f\"User with 'User_ID' {user_id_to_find} does not exist in the cached_train dataset.\")"
   ]
  },
  {
   "cell_type": "markdown",
   "metadata": {},
   "source": [
    "Let's take look at what movies we should recommend to our random user '169999', for this example I have set the rating_weight = 0.9, with ranking_weight = 1.0:"
   ]
  },
  {
   "cell_type": "code",
   "execution_count": 25,
   "metadata": {},
   "outputs": [
    {
     "name": "stdout",
     "output_type": "stream",
     "text": [
      "Top 10 recommendations for user 169999:\n",
      "\n",
      "1. Character\n",
      "2. Immortal Beloved\n",
      "3. Aqua Teen Hunger Force: Vol. 1\n",
      "4. The Love Letter\n",
      "5. Carandiru\n",
      "6. Never Die Alone\n",
      "7. Rudolph the Red-Nosed Reindeer\n",
      "8. ABC Primetime: Mel Gibson's The Passion of the Christ\n",
      "9. Spitfire Grill\n"
     ]
    }
   ],
   "source": [
    "# retrieve top 10 movies to recommend to user '169999':\n",
    "predict_movie(169999, 10)"
   ]
  },
  {
   "cell_type": "code",
   "execution_count": 26,
   "metadata": {},
   "outputs": [
    {
     "name": "stdout",
     "output_type": "stream",
     "text": [
      "Predicted rating for b'Pride and Prejudice=': [[3.2286658]]\n"
     ]
    }
   ],
   "source": [
    "predict_rating(169999, b\"Pride and Prejudice=\")"
   ]
  },
  {
   "cell_type": "code",
   "execution_count": 27,
   "metadata": {},
   "outputs": [
    {
     "data": {
      "text/html": [
       "<div>\n",
       "<style scoped>\n",
       "    .dataframe tbody tr th:only-of-type {\n",
       "        vertical-align: middle;\n",
       "    }\n",
       "\n",
       "    .dataframe tbody tr th {\n",
       "        vertical-align: top;\n",
       "    }\n",
       "\n",
       "    .dataframe thead th {\n",
       "        text-align: right;\n",
       "    }\n",
       "</style>\n",
       "<table border=\"1\" class=\"dataframe\">\n",
       "  <thead>\n",
       "    <tr style=\"text-align: right;\">\n",
       "      <th></th>\n",
       "      <th>User_ID</th>\n",
       "      <th>Rating</th>\n",
       "      <th>Movie_ID</th>\n",
       "      <th>Year</th>\n",
       "      <th>Name</th>\n",
       "    </tr>\n",
       "  </thead>\n",
       "  <tbody>\n",
       "    <tr>\n",
       "      <th>49979</th>\n",
       "      <td>169999</td>\n",
       "      <td>3</td>\n",
       "      <td>28</td>\n",
       "      <td>2002</td>\n",
       "      <td>Lilo and Stitch</td>\n",
       "    </tr>\n",
       "    <tr>\n",
       "      <th>108463</th>\n",
       "      <td>169999</td>\n",
       "      <td>5</td>\n",
       "      <td>30</td>\n",
       "      <td>2003</td>\n",
       "      <td>Something's Gotta Give</td>\n",
       "    </tr>\n",
       "    <tr>\n",
       "      <th>187719</th>\n",
       "      <td>169999</td>\n",
       "      <td>3</td>\n",
       "      <td>58</td>\n",
       "      <td>1996</td>\n",
       "      <td>Dragonheart</td>\n",
       "    </tr>\n",
       "    <tr>\n",
       "      <th>559965</th>\n",
       "      <td>169999</td>\n",
       "      <td>5</td>\n",
       "      <td>191</td>\n",
       "      <td>2003</td>\n",
       "      <td>X2: X-Men United</td>\n",
       "    </tr>\n",
       "    <tr>\n",
       "      <th>899753</th>\n",
       "      <td>169999</td>\n",
       "      <td>5</td>\n",
       "      <td>273</td>\n",
       "      <td>2004</td>\n",
       "      <td>Taxi</td>\n",
       "    </tr>\n",
       "    <tr>\n",
       "      <th>1036234</th>\n",
       "      <td>169999</td>\n",
       "      <td>5</td>\n",
       "      <td>299</td>\n",
       "      <td>2001</td>\n",
       "      <td>Bridget Jones's Diary</td>\n",
       "    </tr>\n",
       "    <tr>\n",
       "      <th>1188597</th>\n",
       "      <td>169999</td>\n",
       "      <td>5</td>\n",
       "      <td>313</td>\n",
       "      <td>2000</td>\n",
       "      <td>Pay It Forward</td>\n",
       "    </tr>\n",
       "    <tr>\n",
       "      <th>1323587</th>\n",
       "      <td>169999</td>\n",
       "      <td>4</td>\n",
       "      <td>331</td>\n",
       "      <td>1997</td>\n",
       "      <td>Chasing Amy</td>\n",
       "    </tr>\n",
       "    <tr>\n",
       "      <th>1355086</th>\n",
       "      <td>169999</td>\n",
       "      <td>4</td>\n",
       "      <td>334</td>\n",
       "      <td>2005</td>\n",
       "      <td>The Pacifier</td>\n",
       "    </tr>\n",
       "    <tr>\n",
       "      <th>1475628</th>\n",
       "      <td>169999</td>\n",
       "      <td>5</td>\n",
       "      <td>361</td>\n",
       "      <td>2004</td>\n",
       "      <td>The Phantom of the Opera: Special Edition</td>\n",
       "    </tr>\n",
       "    <tr>\n",
       "      <th>3320441</th>\n",
       "      <td>169999</td>\n",
       "      <td>5</td>\n",
       "      <td>886</td>\n",
       "      <td>2004</td>\n",
       "      <td>Ray</td>\n",
       "    </tr>\n",
       "    <tr>\n",
       "      <th>3481707</th>\n",
       "      <td>169999</td>\n",
       "      <td>4</td>\n",
       "      <td>954</td>\n",
       "      <td>2003</td>\n",
       "      <td>I Capture the Castle</td>\n",
       "    </tr>\n",
       "    <tr>\n",
       "      <th>3622287</th>\n",
       "      <td>169999</td>\n",
       "      <td>4</td>\n",
       "      <td>989</td>\n",
       "      <td>2004</td>\n",
       "      <td>The Door in the Floor</td>\n",
       "    </tr>\n",
       "    <tr>\n",
       "      <th>4033269</th>\n",
       "      <td>169999</td>\n",
       "      <td>5</td>\n",
       "      <td>1110</td>\n",
       "      <td>2003</td>\n",
       "      <td>Secondhand Lions</td>\n",
       "    </tr>\n",
       "    <tr>\n",
       "      <th>4148402</th>\n",
       "      <td>169999</td>\n",
       "      <td>5</td>\n",
       "      <td>1144</td>\n",
       "      <td>1991</td>\n",
       "      <td>Fried Green Tomatoes</td>\n",
       "    </tr>\n",
       "    <tr>\n",
       "      <th>4216372</th>\n",
       "      <td>169999</td>\n",
       "      <td>4</td>\n",
       "      <td>1145</td>\n",
       "      <td>2001</td>\n",
       "      <td>The Wedding Planner</td>\n",
       "    </tr>\n",
       "    <tr>\n",
       "      <th>4384262</th>\n",
       "      <td>169999</td>\n",
       "      <td>5</td>\n",
       "      <td>1180</td>\n",
       "      <td>2001</td>\n",
       "      <td>A Beautiful Mind</td>\n",
       "    </tr>\n",
       "    <tr>\n",
       "      <th>4547396</th>\n",
       "      <td>169999</td>\n",
       "      <td>4</td>\n",
       "      <td>1220</td>\n",
       "      <td>2004</td>\n",
       "      <td>Man on Fire</td>\n",
       "    </tr>\n",
       "    <tr>\n",
       "      <th>5263891</th>\n",
       "      <td>169999</td>\n",
       "      <td>4</td>\n",
       "      <td>1467</td>\n",
       "      <td>1993</td>\n",
       "      <td>Three Musketeers</td>\n",
       "    </tr>\n",
       "    <tr>\n",
       "      <th>5515987</th>\n",
       "      <td>169999</td>\n",
       "      <td>5</td>\n",
       "      <td>1542</td>\n",
       "      <td>1993</td>\n",
       "      <td>Sleepless in Seattle</td>\n",
       "    </tr>\n",
       "  </tbody>\n",
       "</table>\n",
       "</div>"
      ],
      "text/plain": [
       "        User_ID  Rating  Movie_ID  Year  \\\n",
       "49979    169999       3        28  2002   \n",
       "108463   169999       5        30  2003   \n",
       "187719   169999       3        58  1996   \n",
       "559965   169999       5       191  2003   \n",
       "899753   169999       5       273  2004   \n",
       "1036234  169999       5       299  2001   \n",
       "1188597  169999       5       313  2000   \n",
       "1323587  169999       4       331  1997   \n",
       "1355086  169999       4       334  2005   \n",
       "1475628  169999       5       361  2004   \n",
       "3320441  169999       5       886  2004   \n",
       "3481707  169999       4       954  2003   \n",
       "3622287  169999       4       989  2004   \n",
       "4033269  169999       5      1110  2003   \n",
       "4148402  169999       5      1144  1991   \n",
       "4216372  169999       4      1145  2001   \n",
       "4384262  169999       5      1180  2001   \n",
       "4547396  169999       4      1220  2004   \n",
       "5263891  169999       4      1467  1993   \n",
       "5515987  169999       5      1542  1993   \n",
       "\n",
       "                                              Name  \n",
       "49979                              Lilo and Stitch  \n",
       "108463                      Something's Gotta Give  \n",
       "187719                                 Dragonheart  \n",
       "559965                            X2: X-Men United  \n",
       "899753                                        Taxi  \n",
       "1036234                      Bridget Jones's Diary  \n",
       "1188597                             Pay It Forward  \n",
       "1323587                                Chasing Amy  \n",
       "1355086                               The Pacifier  \n",
       "1475628  The Phantom of the Opera: Special Edition  \n",
       "3320441                                        Ray  \n",
       "3481707                       I Capture the Castle  \n",
       "3622287                      The Door in the Floor  \n",
       "4033269                           Secondhand Lions  \n",
       "4148402                       Fried Green Tomatoes  \n",
       "4216372                        The Wedding Planner  \n",
       "4384262                           A Beautiful Mind  \n",
       "4547396                                Man on Fire  \n",
       "5263891                           Three Musketeers  \n",
       "5515987                       Sleepless in Seattle  "
      ]
     },
     "execution_count": 27,
     "metadata": {},
     "output_type": "execute_result"
    }
   ],
   "source": [
    "# let's look at what user 169999 rating history\n",
    "# to see if they would enjoy the top 10 movie recommendations\n",
    "filtered_df = ratings_df[ratings_df['User_ID'] == '169999']\n",
    "\n",
    "# Display only the first 20 rows\n",
    "filtered_df.head(20)"
   ]
  },
  {
   "cell_type": "markdown",
   "metadata": {},
   "source": [
    "#### Result Interpretation:\n",
    "When looking at the results with the assigned weights, we can see that some of the recommendations has appeared in his/her previous watch, such as Lilo and Stitch, and this may be a good thing, as the recommendation included familiar movies but also movies the user has never viewed before.\n",
    "\n",
    "\n",
    "When used to predict rating, it may be a little inaccurate as Pride and Prejudice predicted rating for this user is 2.7, but the user actually rated the movie 5.0. (the user's actual rating for Pride and Prejudice is not included in the data shown here, but it's included when you show more than 20 rows of the data, the data shown here has been truncated)\n",
    "\n",
    "\n",
    "This is expected as we have set the rating_weight less, increasing weight of the rating may produce better rating prediction.\n",
    "\n",
    "\n",
    "This may not be entirely necessary as most users would be more interested in getting recommendation of movies they would actually want to watch, as opposed to how good the recommender is at to predicting the rating the user will give to a particular movie."
   ]
  },
  {
   "cell_type": "markdown",
   "metadata": {},
   "source": [
    "#### Final Thoughts\n",
    "\n",
    "Given the result, Here's a few improvements we can implement to improve the test result:\n",
    "* <b>Add additional Features to the dataset:</b> expand the dataset to include additional features that could provide valuable information for recommendations. For movies, we could consider adding genres, actors, directors, or movie descriptions. For users, we may include demographic information, preferences, and historical interactions: such as, watch time, time most active, etc.\n",
    "\n",
    "* <b>Regularization, Hyperparameters and Parameters Tuning:</b> Experiment with different regularization techniques and hyperparameters settings to optimize model performance while considering bias/variance tradeoff\n",
    "\n",
    "* <b>Explore different Models:</b> explore different models that combine the prediction of multiple models, or combine different techniques, such as matrix factorization and reinforcement learning."
   ]
  },
  {
   "cell_type": "markdown",
   "metadata": {},
   "source": []
  }
 ],
 "metadata": {
  "kernelspec": {
   "display_name": "Python 3",
   "language": "python",
   "name": "python3"
  },
  "language_info": {
   "codemirror_mode": {
    "name": "ipython",
    "version": 3
   },
   "file_extension": ".py",
   "mimetype": "text/x-python",
   "name": "python",
   "nbconvert_exporter": "python",
   "pygments_lexer": "ipython3",
   "version": "3.11.3"
  },
  "orig_nbformat": 4
 },
 "nbformat": 4,
 "nbformat_minor": 2
}
